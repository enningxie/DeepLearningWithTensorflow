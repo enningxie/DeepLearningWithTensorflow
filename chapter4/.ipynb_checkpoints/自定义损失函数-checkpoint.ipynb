{
 "cells": [
  {
   "cell_type": "markdown",
   "metadata": {},
   "source": [
    "深度学习的精确定义：一类通过多层非线性变换对高复杂性数据建模算法的合集。"
   ]
  },
  {
   "cell_type": "code",
   "execution_count": 1,
   "metadata": {
    "collapsed": true
   },
   "outputs": [],
   "source": [
    "import tensorflow as tf\n",
    "from numpy.random import RandomState"
   ]
  },
  {
   "cell_type": "code",
   "execution_count": 2,
   "metadata": {
    "collapsed": true
   },
   "outputs": [],
   "source": [
    "# 定义神经网络的相关参数和变量\n",
    "batch_size = 8\n",
    "x = tf.placeholder(tf.float32, shape=(None, 2), name=\"x-input\")\n",
    "y_ = tf.placeholder(tf.float32, shape=(None, 1), name=\"y-input\")\n",
    "w1 = tf.Variable(tf.random_normal([2, 1], stddev=1, seed=1))\n",
    "y = tf.matmul(x, w1)"
   ]
  },
  {
   "cell_type": "code",
   "execution_count": 3,
   "metadata": {
    "collapsed": true
   },
   "outputs": [],
   "source": [
    "# 设置自定义的损失函数\n",
    "# 定义损失函数使得预测少了的损失大，于是模型应该偏向多的方向预测\n",
    "loss_less = 10\n",
    "loss_more = 1\n",
    "loss = tf.reduce_sum(tf.where(tf.greater(y, y_), (y-y_)*loss_more, (y_-y)*loss_less))\n",
    "train_step = tf.train.AdamOptimizer(0.001).minimize(loss)"
   ]
  },
  {
   "cell_type": "code",
   "execution_count": 4,
   "metadata": {
    "collapsed": true
   },
   "outputs": [],
   "source": [
    "# 生成数据集\n",
    "rdm = RandomState(1)\n",
    "X = rdm.rand(128, 2)\n",
    "Y = [[x1 + x2 + (rdm.rand()/10.0-0.05)] for (x1, x2) in X]"
   ]
  },
  {
   "cell_type": "code",
   "execution_count": 9,
   "metadata": {},
   "outputs": [
    {
     "name": "stdout",
     "output_type": "stream",
     "text": [
      "After 0 training steps(s), w1 is : \n",
      "[[-0.81031823]\n",
      " [ 1.4855988 ]] \n",
      "\n",
      "After 1000 training steps(s), w1 is : \n",
      "[[ 0.01247112]\n",
      " [ 2.1385448 ]] \n",
      "\n",
      "After 2000 training steps(s), w1 is : \n",
      "[[ 0.45567414]\n",
      " [ 2.17060661]] \n",
      "\n",
      "After 3000 training steps(s), w1 is : \n",
      "[[ 0.69968724]\n",
      " [ 1.8465308 ]] \n",
      "\n",
      "After 4000 training steps(s), w1 is : \n",
      "[[ 0.89886665]\n",
      " [ 1.29736018]] \n",
      "\n",
      "Final w1 isL \n",
      " [[ 1.01934695]\n",
      " [ 1.04280889]]\n"
     ]
    }
   ],
   "source": [
    "# 训练模型\n",
    "with tf.Session() as sess:\n",
    "    init_op = tf.global_variables_initializer()\n",
    "    sess.run(init_op)\n",
    "    STEPS = 5000\n",
    "    for i in range(STEPS):\n",
    "        start = (i*batch_size) % 128\n",
    "        end = (i*batch_size) % 128 + batch_size\n",
    "        sess.run(train_step, feed_dict={x: X[start: end], y_: Y[start: end]})\n",
    "        if i % 1000 == 0:\n",
    "            print(\"After %d training steps(s), w1 is : \" % i)\n",
    "            print(sess.run(w1), \"\\n\")\n",
    "    print(\"Final w1 isL \\n\", sess.run(w1))"
   ]
  },
  {
   "cell_type": "code",
   "execution_count": 10,
   "metadata": {},
   "outputs": [
    {
     "name": "stdout",
     "output_type": "stream",
     "text": [
      "After 0 training step(s), w1 is : \n",
      "[[-0.81231821]\n",
      " [ 1.48359871]] \n",
      "\n",
      "After 1000 training step(s), w1 is : \n",
      "[[ 0.18643527]\n",
      " [ 1.07393336]] \n",
      "\n",
      "After 2000 training step(s), w1 is : \n",
      "[[ 0.95444274]\n",
      " [ 0.98088616]] \n",
      "\n",
      "After 3000 training step(s), w1 is : \n",
      "[[ 0.95574027]\n",
      " [ 0.9806633 ]] \n",
      "\n",
      "After 4000 training step(s), w1 is : \n",
      "[[ 0.95466018]\n",
      " [ 0.98135227]] \n",
      "\n",
      "Final w1 is : \n",
      " [[ 0.95525807]\n",
      " [ 0.9813394 ]]\n"
     ]
    }
   ],
   "source": [
    "# 重新定义损失函数，使得预测多了损失大，于是模型应该偏向少的方向预测\n",
    "loss_less = 1\n",
    "loss_more = 10\n",
    "loss = tf.reduce_sum(tf.where(tf.greater(y, y_), (y - y_) * loss_more, (y_ - y) * loss_less))\n",
    "train_step = tf.train.AdamOptimizer(0.001).minimize(loss)\n",
    "\n",
    "with tf.Session() as sess:\n",
    "    init_op = tf.global_variables_initializer()\n",
    "    sess.run(init_op)\n",
    "    STEPS = 5000\n",
    "    for i in range(STEPS):\n",
    "        start = (i * batch_size) % 128\n",
    "        end = (i * batch_size) % 128 + batch_size\n",
    "        sess.run(train_step, feed_dict={x: X[start: end], y_: Y[start: end]})\n",
    "        if i % 1000 == 0:\n",
    "            print(\"After %d training step(s), w1 is : \"%i)\n",
    "            print(sess.run(w1), \"\\n\")\n",
    "    print(\"Final w1 is : \\n\", sess.run(w1))"
   ]
  },
  {
   "cell_type": "code",
   "execution_count": 13,
   "metadata": {},
   "outputs": [
    {
     "name": "stdout",
     "output_type": "stream",
     "text": [
      "After 0 training step(s) w1 is : \n",
      "[[-0.81031823]\n",
      " [ 1.4855988 ]] \n",
      "\n",
      "After 1000 training step(s) w1 is : \n",
      "[[-0.13337609]\n",
      " [ 1.81309223]] \n",
      "\n",
      "After 2000 training step(s) w1 is : \n",
      "[[ 0.32190299]\n",
      " [ 1.52463484]] \n",
      "\n",
      "After 3000 training step(s) w1 is : \n",
      "[[ 0.67850214]\n",
      " [ 1.25297272]] \n",
      "\n",
      "After 4000 training step(s) w1 is : \n",
      "[[ 0.89473999]\n",
      " [ 1.08598232]] \n",
      "\n",
      "Final w1 is : \n",
      " [[ 0.97437561]\n",
      " [ 1.0243336 ]]\n"
     ]
    }
   ],
   "source": [
    "# 定义损失函数为MSE(均方误差)\n",
    "loss = tf.losses.mean_squared_error(y, y_)\n",
    "train_step = tf.train.AdamOptimizer(0.001).minimize(loss)\n",
    "\n",
    "with tf.Session() as sess:\n",
    "    init_op = tf.global_variables_initializer()\n",
    "    sess.run(init_op)\n",
    "    STEPS = 5000\n",
    "    for i in range(STEPS):\n",
    "        start = (i*batch_size) % 128\n",
    "        end = (i*batch_size) % 128 + batch_size\n",
    "        sess.run(train_step, feed_dict={x: X[start:end], y_:Y[start:end]})\n",
    "        if i%1000 == 0:\n",
    "            print(\"After %d training step(s) w1 is : \" % i)\n",
    "            print(sess.run(w1), \"\\n\")\n",
    "    print(\"Final w1 is : \\n\", sess.run(w1))"
   ]
  },
  {
   "cell_type": "markdown",
   "metadata": {},
   "source": [
    "通过这样的实验样例可以感受到，对于相同的神经网络，不同的损失函数会对训练得到的模型产生重要的影响。"
   ]
  }
 ],
 "metadata": {
  "kernelspec": {
   "display_name": "Python 3",
   "language": "python",
   "name": "python3"
  },
  "language_info": {
   "codemirror_mode": {
    "name": "ipython",
    "version": 3
   },
   "file_extension": ".py",
   "mimetype": "text/x-python",
   "name": "python",
   "nbconvert_exporter": "python",
   "pygments_lexer": "ipython3",
   "version": "3.5.3"
  }
 },
 "nbformat": 4,
 "nbformat_minor": 2
}
