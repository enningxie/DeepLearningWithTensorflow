{
 "cells": [
  {
   "cell_type": "code",
   "execution_count": 1,
   "metadata": {
    "collapsed": true
   },
   "outputs": [],
   "source": [
    "import tensorflow as tf\n",
    "import numpy as np"
   ]
  },
  {
   "cell_type": "code",
   "execution_count": 3,
   "metadata": {},
   "outputs": [
    {
     "name": "stdout",
     "output_type": "stream",
     "text": [
      "(3, 3, 1)\n"
     ]
    }
   ],
   "source": [
    "# 输入矩阵\n",
    "M = np.array(\n",
    "    [\n",
    "        [[1], [-1], [0]],\n",
    "        [[-1], [2], [1]],\n",
    "        [[0], [2], [-2]]\n",
    "    ]\n",
    ")\n",
    "print(M.shape)"
   ]
  },
  {
   "cell_type": "code",
   "execution_count": 5,
   "metadata": {},
   "outputs": [],
   "source": [
    "# 定义卷积过滤器，深度为1\n",
    "# 前两个维度代表了过滤器的尺寸，第三个维度表示当前层的深度，第四个维度表示过滤器的深度\n",
    "filter_weight = tf.get_variable('weights', [2, 2, 1, 1], initializer=tf.constant_initializer([\n",
    "    [1, -1],\n",
    "    [0, 2]\n",
    "]))\n",
    "biases = tf.get_variable('biases', [1], initializer=tf.constant_initializer(1))"
   ]
  },
  {
   "cell_type": "markdown",
   "metadata": {},
   "source": [
    "和卷积层的权重类似，当前层矩阵上不同位置的偏置项也是共享的，所以总共有下一层深度个不同的biases。"
   ]
  },
  {
   "cell_type": "code",
   "execution_count": 7,
   "metadata": {},
   "outputs": [],
   "source": [
    "# 调整输入格式符合tensorflow的要求\n",
    "M = np.array(M, dtype='float32')\n",
    "M = M.reshape(1, 3, 3, 1)"
   ]
  },
  {
   "cell_type": "code",
   "execution_count": 8,
   "metadata": {},
   "outputs": [
    {
     "name": "stdout",
     "output_type": "stream",
     "text": [
      "convoluted_M:\n",
      " [[[[ 7.]\n",
      "   [ 1.]]\n",
      "\n",
      "  [[-1.]\n",
      "   [-1.]]]]\n",
      "pooled_M:\n",
      " [[[[ 0.25]\n",
      "   [ 0.5 ]]\n",
      "\n",
      "  [[ 1.  ]\n",
      "   [-2.  ]]]]\n"
     ]
    }
   ],
   "source": [
    "# 计算矩阵通过卷积层过滤器和池化层过滤器计算后的结果\n",
    "x = tf.placeholder('float32', [1, None, None, 1])\n",
    "# tf.nn.conv2d提供了一个非常方便的函数来实现卷积层前向传播的算法\n",
    "# 参数：当前层的节点矩阵；卷积层的权重；不同维度上的步长；填充的方法\n",
    "conv = tf.nn.conv2d(x, filter_weight, strides=[1, 2, 2, 1], padding='SAME')\n",
    "bias = tf.nn.bias_add(conv, biases)\n",
    "# 池化层的过滤器还需要在深度这个维度上移动;ksize提供了过滤器的尺寸\n",
    "pool = tf.nn.avg_pool(x, ksize=[1, 2, 2, 1], strides=[1, 2, 2, 1], padding='SAME')\n",
    "with tf.Session() as sess:\n",
    "    tf.global_variables_initializer().run()\n",
    "    convoluted_M = sess.run(bias, feed_dict={x: M})\n",
    "    pooled_M = sess.run(pool, feed_dict={x: M})\n",
    "    print(\"convoluted_M:\\n\", convoluted_M)\n",
    "    print(\"pooled_M:\\n\",pooled_M)"
   ]
  },
  {
   "cell_type": "code",
   "execution_count": null,
   "metadata": {
    "collapsed": true
   },
   "outputs": [],
   "source": []
  }
 ],
 "metadata": {
  "kernelspec": {
   "display_name": "Python 3",
   "language": "python",
   "name": "python3"
  },
  "language_info": {
   "codemirror_mode": {
    "name": "ipython",
    "version": 3
   },
   "file_extension": ".py",
   "mimetype": "text/x-python",
   "name": "python",
   "nbconvert_exporter": "python",
   "pygments_lexer": "ipython3",
   "version": "3.5.3"
  }
 },
 "nbformat": 4,
 "nbformat_minor": 2
}
