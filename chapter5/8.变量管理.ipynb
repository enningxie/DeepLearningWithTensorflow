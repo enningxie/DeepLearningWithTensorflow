{
 "cells": [
  {
   "cell_type": "code",
   "execution_count": 1,
   "metadata": {
    "collapsed": true
   },
   "outputs": [],
   "source": [
    "import tensorflow as tf"
   ]
  },
  {
   "cell_type": "code",
   "execution_count": 2,
   "metadata": {},
   "outputs": [
    {
     "name": "stdout",
     "output_type": "stream",
     "text": [
      "False\n"
     ]
    }
   ],
   "source": [
    "# 在上下文管理器\"foo\"中创建变量\"v\"\n",
    "with tf.variable_scope(\"foo\"):\n",
    "    print(tf.get_variable_scope().reuse)\n",
    "    v = tf.get_variable(\"v\", [1], initializer=tf.constant_initializer(1.0))"
   ]
  },
  {
   "cell_type": "code",
   "execution_count": 3,
   "metadata": {},
   "outputs": [
    {
     "name": "stdout",
     "output_type": "stream",
     "text": [
      "True\n"
     ]
    }
   ],
   "source": [
    "with tf.variable_scope(\"foo\", reuse=True):\n",
    "    v1 = tf.get_variable(\"v\", [1])\n",
    "\n",
    "print(v == v1)"
   ]
  },
  {
   "cell_type": "code",
   "execution_count": 4,
   "metadata": {},
   "outputs": [
    {
     "name": "stdout",
     "output_type": "stream",
     "text": [
      "False\n",
      "True\n",
      "True\n",
      "False\n"
     ]
    }
   ],
   "source": [
    "# 嵌套上下文管理器中的reuse参数的使用\n",
    "with tf.variable_scope(\"root\"):\n",
    "    print(tf.get_variable_scope().reuse)\n",
    "    \n",
    "    with tf.variable_scope(\"foo\", reuse=True):\n",
    "        print(tf.get_variable_scope().reuse)\n",
    "        \n",
    "        with tf.variable_scope(\"bar\"):\n",
    "            print(tf.get_variable_scope().reuse)\n",
    "    print(tf.get_variable_scope().reuse)"
   ]
  },
  {
   "cell_type": "markdown",
   "metadata": {},
   "source": [
    "不指定reuse，这时reuse的取值和外面一层保持一致。"
   ]
  },
  {
   "cell_type": "code",
   "execution_count": 10,
   "metadata": {},
   "outputs": [
    {
     "name": "stdout",
     "output_type": "stream",
     "text": [
      "foo/v:0\n",
      "False\n",
      "foo/bar/v:0\n",
      "v2:0\n"
     ]
    }
   ],
   "source": [
    "# 通过variable_scope来管理变量\n",
    "\n",
    "with tf.variable_scope(\"foo\", reuse=True):\n",
    "    v2 = tf.get_variable(\"v\", [1])\n",
    "print(v2.name)\n",
    "\n",
    "with tf.variable_scope(\"foo\"):\n",
    "    print(tf.get_variable_scope().reuse)\n",
    "    with tf.variable_scope(\"bar\", reuse=True):\n",
    "        v3 = tf.get_variable(\"v\", [1])\n",
    "        print(v3.name)\n",
    "        \n",
    "v4 = tf.get_variable(\"v2\", [1])\n",
    "print(v4.name)"
   ]
  },
  {
   "cell_type": "code",
   "execution_count": 11,
   "metadata": {},
   "outputs": [
    {
     "name": "stdout",
     "output_type": "stream",
     "text": [
      "True\n",
      "True\n"
     ]
    }
   ],
   "source": [
    "# 通过变量的名称来获取变量\n",
    "with tf.variable_scope(\"\", reuse=True):\n",
    "    v5 = tf.get_variable(\"foo/bar/v\", [1])\n",
    "    print(v5 == v3)\n",
    "    v6 = tf.get_variable(\"v2\", [1])\n",
    "    print(v6 == v4)"
   ]
  }
 ],
 "metadata": {
  "kernelspec": {
   "display_name": "Python 3",
   "language": "python",
   "name": "python3"
  },
  "language_info": {
   "codemirror_mode": {
    "name": "ipython",
    "version": 3
   },
   "file_extension": ".py",
   "mimetype": "text/x-python",
   "name": "python",
   "nbconvert_exporter": "python",
   "pygments_lexer": "ipython3",
   "version": "3.5.3"
  }
 },
 "nbformat": 4,
 "nbformat_minor": 2
}
