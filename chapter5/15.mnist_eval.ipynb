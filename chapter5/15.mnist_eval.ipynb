{
 "cells": [
  {
   "cell_type": "code",
   "execution_count": 2,
   "metadata": {},
   "outputs": [],
   "source": [
    "import time\n",
    "import tensorflow as tf\n",
    "from tensorflow.examples.tutorials.mnist import input_data\n",
    "import mnist_inference\n",
    "import mnist_train"
   ]
  },
  {
   "cell_type": "code",
   "execution_count": 3,
   "metadata": {
    "collapsed": true
   },
   "outputs": [],
   "source": [
    "# 每10秒加载一次最新模型\n",
    "# 加载时间间隔\n",
    "EVAL_INTERVAL_SECS = 10\n",
    "\n",
    "def evaluate(mnist):\n",
    "    x = tf.placeholder(tf.float32, [None, mnist_inference.INPUT_NODE], name='x-input')\n",
    "    y_ = tf.placeholder(tf.float32, [None, mnist_inference.OUTPUT_NODE], name='y-input')\n",
    "    validate_feed = {x: mnist.validation.images, y_: mnist.validation.labels}\n",
    "    \n",
    "    y = mnist_inference.inference(x, None)\n",
    "    correct_prediction = tf.equal(tf.argmax(y, 1), tf.argmax(y_, 1))\n",
    "    accuracy = tf.reduce_mean(tf.cast(correct_prediction, tf.float32))\n",
    "    \n",
    "    variable_averages = tf.train.ExponentialMovingAverage(mnist_train.MOVING_AVERAGE_DECAY)\n",
    "    variables_to_restore = variable_averages.variables_to_restore()\n",
    "    saver = tf.train.Saver(variables_to_restore)\n",
    "    \n",
    "    while True:\n",
    "        with tf.Session() as sess:\n",
    "            ckpt = tf.train.get_checkpoint_state(mnist_train.MODEL_SAVE_PATH)\n",
    "            if ckpt and ckpt.model_checkpoint_path:\n",
    "                saver.restore(sess, ckpt.model_checkpoint_path)\n",
    "                global_step = ckpt.model_checkpoint_path.split('/')[-1].split('-')[-1]\n",
    "                accuracy_score = sess.run(accuracy, feed_dict=validate_feed)\n",
    "                print(\"After %s training step(s), validation accuracy = %g\" % (global_step, accuracy_score))\n",
    "            else:\n",
    "                print('No checkpoint file found')\n",
    "                return\n",
    "        time.sleep(EVAL_INTERVAL_SECS)"
   ]
  },
  {
   "cell_type": "code",
   "execution_count": null,
   "metadata": {},
   "outputs": [
    {
     "name": "stdout",
     "output_type": "stream",
     "text": [
      "Extracting ../datasets/MNIST_data\\train-images-idx3-ubyte.gz\n",
      "Extracting ../datasets/MNIST_data\\train-labels-idx1-ubyte.gz\n",
      "Extracting ../datasets/MNIST_data\\t10k-images-idx3-ubyte.gz\n",
      "Extracting ../datasets/MNIST_data\\t10k-labels-idx1-ubyte.gz\n",
      "INFO:tensorflow:Restoring parameters from MNIST_model/mnist_model-29001\n",
      "After 29001 training step(s), validation accuracy = 0.9842\n",
      "INFO:tensorflow:Restoring parameters from MNIST_model/mnist_model-29001\n",
      "After 29001 training step(s), validation accuracy = 0.9842\n",
      "INFO:tensorflow:Restoring parameters from MNIST_model/mnist_model-29001\n",
      "After 29001 training step(s), validation accuracy = 0.9842\n"
     ]
    }
   ],
   "source": [
    "# 主程序\n",
    "def main(argv=None):\n",
    "    mnist = input_data.read_data_sets(\"../datasets/MNIST_data\", one_hot=True)\n",
    "    evaluate(mnist)\n",
    "\n",
    "if __name__==\"__main__\":\n",
    "    main()"
   ]
  }
 ],
 "metadata": {
  "kernelspec": {
   "display_name": "Python 3",
   "language": "python",
   "name": "python3"
  },
  "language_info": {
   "codemirror_mode": {
    "name": "ipython",
    "version": 3
   },
   "file_extension": ".py",
   "mimetype": "text/x-python",
   "name": "python",
   "nbconvert_exporter": "python",
   "pygments_lexer": "ipython3",
   "version": "3.5.3"
  }
 },
 "nbformat": 4,
 "nbformat_minor": 2
}
