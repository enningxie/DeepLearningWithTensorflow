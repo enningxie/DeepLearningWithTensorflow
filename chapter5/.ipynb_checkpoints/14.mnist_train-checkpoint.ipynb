{
 "cells": [
  {
   "cell_type": "code",
   "execution_count": 1,
   "metadata": {
    "collapsed": true
   },
   "outputs": [],
   "source": [
    "import tensorflow as tf\n",
    "from tensorflow.examples.tutorials.mnist import input_data\n",
    "import mnist_inference\n",
    "import os"
   ]
  },
  {
   "cell_type": "code",
   "execution_count": 2,
   "metadata": {
    "collapsed": true
   },
   "outputs": [],
   "source": [
    "# 定义神经网络结构相关的参数\n",
    "BATCH_SIZE = 100 \n",
    "LEARNING_RATE_BASE = 0.8\n",
    "LEARNING_RATE_DECAY = 0.99\n",
    "REGULARIZATION_RATE = 0.0001\n",
    "TRAINING_STEPS = 30000\n",
    "MOVING_AVERAGE_DECAY = 0.99 \n",
    "MODEL_SAVE_PATH = \"MNIST_model/\"\n",
    "MODEL_NAME = \"mnist_model\""
   ]
  },
  {
   "cell_type": "code",
   "execution_count": 3,
   "metadata": {
    "collapsed": true
   },
   "outputs": [],
   "source": [
    "# 定义训练过程\n",
    "def train(mnist):\n",
    "    # 定义输入输出placeholder\n",
    "    x = tf.placeholder(tf.float32, [None, mnist_inference.INPUT_NODE], name='x-input')\n",
    "    y_ = tf.placeholder(tf.float32, [None, mnist_inference.OUTPUT_NODE], name='y-input')\n",
    "    \n",
    "    regularizer = tf.contrib.layers.l2_regularizer(REGULARIZATION_RATE)\n",
    "    y = mnist_inference.inference(x, regularizer)\n",
    "    global_step = tf.Variable(0, trainable=False)\n",
    "    \n",
    "    # 定义损失函数、学习率、滑动平均操作以及训练过程\n",
    "    variable_averages = tf.train.ExponentialMovingAverage(MOVING_AVERAGE_DECAY, global_step)\n",
    "    variables_averages_op = variable_averages.apply(tf.trainable_variables())\n",
    "    cross_entropy = tf.nn.sparse_softmax_cross_entropy_with_logits(logits=y, labels=tf.argmax(y_, 1))\n",
    "    cross_entropy_mean = tf.reduce_mean(cross_entropy)\n",
    "    loss = cross_entropy_mean + tf.add_n(tf.get_collection('losses'))\n",
    "    learning_rate = tf.train.exponential_decay(\n",
    "        LEARNING_RATE_BASE,\n",
    "        global_step,\n",
    "        mnist.train.num_examples / BATCH_SIZE,\n",
    "        LEARNING_RATE_DECAY,\n",
    "        staircase=True\n",
    "    )\n",
    "    train_step = tf.train.GradientDescentOptimizer(learning_rate).minimize(loss, global_step=global_step)\n",
    "    with tf.control_dependencies([train_step, variables_averages_op]):\n",
    "        train_op = tf.no_op(name='train')\n",
    "        \n",
    "    # 初始化tensorflow持久化类\n",
    "    saver = tf.train.Saver()\n",
    "    with tf.Session() as sess:\n",
    "        tf.global_variables_initializer().run()\n",
    "        \n",
    "        for i in range(TRAINING_STEPS):\n",
    "            xs, ys = mnist.train.next_batch(BATCH_SIZE)\n",
    "            _, loss_value, step = sess.run([train_op, loss, global_step], feed_dict={x: xs, y_: ys})\n",
    "            if i % 1000 == 0:\n",
    "                print(\"After %d training step(s), loss on training batch is %g.\" % (step, loss_value))\n",
    "                saver.save(sess, os.path.join(MODEL_SAVE_PATH, MODEL_NAME), global_step=global_step)"
   ]
  },
  {
   "cell_type": "code",
   "execution_count": 5,
   "metadata": {},
   "outputs": [
    {
     "name": "stdout",
     "output_type": "stream",
     "text": [
      "Extracting ../datasets/MNIST_data/train-images-idx3-ubyte.gz\n",
      "Extracting ../datasets/MNIST_data/train-labels-idx1-ubyte.gz\n",
      "Extracting ../datasets/MNIST_data/t10k-images-idx3-ubyte.gz\n",
      "Extracting ../datasets/MNIST_data/t10k-labels-idx1-ubyte.gz\n",
      "After 1 training step(s), loss on training batch is 2.52888.\n",
      "After 1001 training step(s), loss on training batch is 0.22388.\n",
      "After 2001 training step(s), loss on training batch is 0.209858.\n",
      "After 3001 training step(s), loss on training batch is 0.15842.\n",
      "After 4001 training step(s), loss on training batch is 0.122927.\n",
      "After 5001 training step(s), loss on training batch is 0.121918.\n",
      "After 6001 training step(s), loss on training batch is 0.108515.\n",
      "After 7001 training step(s), loss on training batch is 0.0840089.\n",
      "After 8001 training step(s), loss on training batch is 0.0845356.\n",
      "After 9001 training step(s), loss on training batch is 0.0737738.\n",
      "After 10001 training step(s), loss on training batch is 0.0685275.\n",
      "After 11001 training step(s), loss on training batch is 0.0639837.\n",
      "After 12001 training step(s), loss on training batch is 0.0564873.\n",
      "After 13001 training step(s), loss on training batch is 0.0564893.\n",
      "After 14001 training step(s), loss on training batch is 0.0521333.\n",
      "After 15001 training step(s), loss on training batch is 0.0477571.\n",
      "After 16001 training step(s), loss on training batch is 0.0490197.\n",
      "After 17001 training step(s), loss on training batch is 0.0489925.\n",
      "After 18001 training step(s), loss on training batch is 0.0503272.\n",
      "After 19001 training step(s), loss on training batch is 0.0410281.\n",
      "After 20001 training step(s), loss on training batch is 0.0403665.\n",
      "After 21001 training step(s), loss on training batch is 0.0398104.\n",
      "After 22001 training step(s), loss on training batch is 0.0377987.\n",
      "After 23001 training step(s), loss on training batch is 0.0386457.\n",
      "After 24001 training step(s), loss on training batch is 0.0373592.\n",
      "After 25001 training step(s), loss on training batch is 0.0358474.\n",
      "After 26001 training step(s), loss on training batch is 0.0358119.\n",
      "After 27001 training step(s), loss on training batch is 0.0397178.\n",
      "After 28001 training step(s), loss on training batch is 0.0383732.\n",
      "After 29001 training step(s), loss on training batch is 0.0385803.\n"
     ]
    }
   ],
   "source": [
    "# 主程序入口\n",
    "def main(argv=None):\n",
    "    mnist = input_data.read_data_sets(\"../datasets/MNIST_data/\", one_hot=True)\n",
    "    train(mnist)\n",
    "    \n",
    "if __name__ == \"__main__\":\n",
    "    main()"
   ]
  },
  {
   "cell_type": "code",
   "execution_count": null,
   "metadata": {
    "collapsed": true
   },
   "outputs": [],
   "source": []
  }
 ],
 "metadata": {
  "kernelspec": {
   "display_name": "Python 3",
   "language": "python",
   "name": "python3"
  },
  "language_info": {
   "codemirror_mode": {
    "name": "ipython",
    "version": 3
   },
   "file_extension": ".py",
   "mimetype": "text/x-python",
   "name": "python",
   "nbconvert_exporter": "python",
   "pygments_lexer": "ipython3",
   "version": "3.5.3"
  }
 },
 "nbformat": 4,
 "nbformat_minor": 2
}
